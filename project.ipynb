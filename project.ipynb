{
 "cells": [
  {
   "cell_type": "code",
   "execution_count": 32,
   "metadata": {},
   "outputs": [],
   "source": [
    "import numpy as np\n",
    "import pandas as pd"
   ]
  },
  {
   "cell_type": "code",
   "execution_count": 33,
   "metadata": {},
   "outputs": [],
   "source": [
    "df_tags = pd.read_csv('./Dataset/tags.txt', sep='\\t', memory_map=True)"
   ]
  },
  {
   "cell_type": "code",
   "execution_count": 34,
   "metadata": {},
   "outputs": [
    {
     "data": {
      "text/html": [
       "<div>\n",
       "<style scoped>\n",
       "    .dataframe tbody tr th:only-of-type {\n",
       "        vertical-align: middle;\n",
       "    }\n",
       "\n",
       "    .dataframe tbody tr th {\n",
       "        vertical-align: top;\n",
       "    }\n",
       "\n",
       "    .dataframe thead th {\n",
       "        text-align: right;\n",
       "    }\n",
       "</style>\n",
       "<table border=\"1\" class=\"dataframe\">\n",
       "  <thead>\n",
       "    <tr style=\"text-align: right;\">\n",
       "      <th></th>\n",
       "      <th>Id</th>\n",
       "      <th>Tags</th>\n",
       "    </tr>\n",
       "  </thead>\n",
       "  <tbody>\n",
       "    <tr>\n",
       "      <th>0</th>\n",
       "      <td>2288942</td>\n",
       "      <td>user-interface</td>\n",
       "    </tr>\n",
       "    <tr>\n",
       "      <th>1</th>\n",
       "      <td>4433442</td>\n",
       "      <td>canvas</td>\n",
       "    </tr>\n",
       "    <tr>\n",
       "      <th>2</th>\n",
       "      <td>6381190</td>\n",
       "      <td>shortcut</td>\n",
       "    </tr>\n",
       "    <tr>\n",
       "      <th>3</th>\n",
       "      <td>27466868</td>\n",
       "      <td>jboss7.x</td>\n",
       "    </tr>\n",
       "    <tr>\n",
       "      <th>4</th>\n",
       "      <td>8375328</td>\n",
       "      <td>math</td>\n",
       "    </tr>\n",
       "  </tbody>\n",
       "</table>\n",
       "</div>"
      ],
      "text/plain": [
       "         Id            Tags\n",
       "0   2288942  user-interface\n",
       "1   4433442          canvas\n",
       "2   6381190        shortcut\n",
       "3  27466868        jboss7.x\n",
       "4   8375328            math"
      ]
     },
     "execution_count": 34,
     "metadata": {},
     "output_type": "execute_result"
    }
   ],
   "source": [
    "df_tags.head()"
   ]
  },
  {
   "cell_type": "code",
   "execution_count": 35,
   "metadata": {},
   "outputs": [
    {
     "data": {
      "text/plain": [
       "15437010    4\n",
       "1064729     4\n",
       "7315033     4\n",
       "2370817     4\n",
       "12864781    4\n",
       "           ..\n",
       "21897196    1\n",
       "24041461    1\n",
       "17105519    1\n",
       "958460      1\n",
       "12584959    1\n",
       "Name: Id, Length: 762142, dtype: int64"
      ]
     },
     "execution_count": 35,
     "metadata": {},
     "output_type": "execute_result"
    }
   ],
   "source": [
    "df_tags.Tags = df_tags.Tags.astype(str)\n",
    "df_tags.Id.value_counts()"
   ]
  },
  {
   "cell_type": "markdown",
   "metadata": {},
   "source": [
    "# make map of tags -> list of occurence"
   ]
  },
  {
   "cell_type": "code",
   "execution_count": 36,
   "metadata": {},
   "outputs": [],
   "source": [
    "def make_tags_list(x):\n",
    "    return x.Tags.values\n",
    "list_que_tags = df_tags.groupby(\"Id\").apply(lambda x: make_tags_list(x))"
   ]
  },
  {
   "cell_type": "code",
   "execution_count": 37,
   "metadata": {},
   "outputs": [
    {
     "data": {
      "text/plain": [
       "(762142,)"
      ]
     },
     "execution_count": 37,
     "metadata": {},
     "output_type": "execute_result"
    }
   ],
   "source": [
    "list_que_tags.head()\n",
    "list_que_tags.shape"
   ]
  },
  {
   "cell_type": "code",
   "execution_count": 38,
   "metadata": {},
   "outputs": [],
   "source": [
    "def make_tag_list_tags(x):\n",
    "    return [list_que_tags[q_id] for q_id in x.Id.values]\n",
    "tag_tags = df_tags.groupby(\"Tags\").apply(lambda x: make_tag_list_tags(x))"
   ]
  },
  {
   "cell_type": "code",
   "execution_count": 46,
   "metadata": {},
   "outputs": [
    {
     "data": {
      "text/plain": [
       "array(['maven', 'android', 'eclipse', 'spring', 'tomcat'], dtype=object)"
      ]
     },
     "execution_count": 46,
     "metadata": {},
     "output_type": "execute_result"
    }
   ],
   "source": [
    "one_list = np.concatenate(tag_tags['intellij-idea'])\n",
    "onelist = np.unique(one_list, return_counts=True)\n",
    "count_sort_ind = np.argsort(-onelist[1])\n",
    "onelist = onelist[0][count_sort_ind]\n",
    "onelist[onelist != 'intellij-idea'][:5]"
   ]
  },
  {
   "cell_type": "code",
   "execution_count": 48,
   "metadata": {},
   "outputs": [
    {
     "data": {
      "text/plain": [
       "array(['rest', 'jersey', 'web-services', 'json', 'resteasy'], dtype=object)"
      ]
     },
     "execution_count": 48,
     "metadata": {},
     "output_type": "execute_result"
    }
   ],
   "source": [
    "one_list = np.concatenate(tag_tags['jax-rs'])\n",
    "onelist = np.unique(one_list, return_counts=True)\n",
    "count_sort_ind = np.argsort(-onelist[1])\n",
    "onelist = onelist[0][count_sort_ind]\n",
    "onelist[onelist != 'jax-rs'][:5]"
   ]
  },
  {
   "cell_type": "code",
   "execution_count": 49,
   "metadata": {},
   "outputs": [
    {
     "data": {
      "text/plain": [
       "array(['swing', 'android', 'jframe', 'netbeans', 'jpanel'], dtype=object)"
      ]
     },
     "execution_count": 49,
     "metadata": {},
     "output_type": "execute_result"
    }
   ],
   "source": [
    "one_list = np.concatenate(tag_tags['user-interface'])\n",
    "onelist = np.unique(one_list, return_counts=True)\n",
    "count_sort_ind = np.argsort(-onelist[1])\n",
    "onelist = onelist[0][count_sort_ind]\n",
    "onelist[onelist != 'user-interface'][:5]"
   ]
  },
  {
   "cell_type": "markdown",
   "metadata": {},
   "source": [
    "# tag1 and tag2 distance"
   ]
  },
  {
   "cell_type": "code",
   "execution_count": 9,
   "metadata": {},
   "outputs": [],
   "source": [
    "con_vec1 = np.concatenate(tag_tags['regex'])\n",
    "con_vec2 = np.concatenate(tag_tags['static'])\n",
    "similarity_set = np.append(con_vec1, con_vec2)\n",
    "similarity_set = set(similarity_set)"
   ]
  },
  {
   "cell_type": "code",
   "execution_count": 10,
   "metadata": {},
   "outputs": [],
   "source": [
    "vec2 = np.zeros(len(similarity_set))\n",
    "vec1 = np.zeros(len(similarity_set))\n",
    "for index,tag in enumerate(similarity_set):\n",
    "    count = np.count_nonzero(con_vec1 == tag)\n",
    "    vec1[index] += count\n",
    "\n",
    "    count = np.count_nonzero(con_vec2 == tag)\n",
    "    vec2[index] += count"
   ]
  },
  {
   "cell_type": "code",
   "execution_count": 11,
   "metadata": {},
   "outputs": [
    {
     "data": {
      "text/plain": [
       "0.4346567961089117"
      ]
     },
     "execution_count": 11,
     "metadata": {},
     "output_type": "execute_result"
    }
   ],
   "source": [
    "dist = np.linalg.norm(vec1-vec2, 2)\n",
    "dist / (len(con_vec1)+len(con_vec2))"
   ]
  },
  {
   "cell_type": "code",
   "execution_count": 12,
   "metadata": {},
   "outputs": [],
   "source": [
    "def get_dist(tag1, tag2):\n",
    "    con_vec1 = np.concatenate(tag_tags[tag1])\n",
    "    con_vec2 = np.concatenate(tag_tags[tag2])\n",
    "    similarity_set = np.append(con_vec1, con_vec2)\n",
    "    similarity_set = set(similarity_set)\n",
    "    vec2 = np.zeros(len(similarity_set))\n",
    "    vec1 = np.zeros(len(similarity_set))\n",
    "    for index,tag in enumerate(similarity_set):\n",
    "        count = np.count_nonzero(con_vec1 == tag)\n",
    "        vec1[index] += count\n",
    "\n",
    "        count = np.count_nonzero(con_vec2 == tag)\n",
    "        vec2[index] += count\n",
    "    dist = np.linalg.norm(vec1-vec2, 2)\n",
    "    return dist / (len(con_vec1)+len(con_vec2))"
   ]
  },
  {
   "cell_type": "code",
   "execution_count": 30,
   "metadata": {},
   "outputs": [
    {
     "name": "stdout",
     "output_type": "stream",
     "text": [
      "0.4346567961089117\n",
      "0.33204579536047457\n",
      "0.2896672656814435\n"
     ]
    }
   ],
   "source": [
    "print(get_dist('regex','static'))\n",
    "print(get_dist('session','spring'))\n",
    "print(get_dist('nullpointerexception','dependency-injection'))"
   ]
  },
  {
   "cell_type": "markdown",
   "metadata": {},
   "source": [
    "# list of top 10 distanced tags"
   ]
  },
  {
   "cell_type": "code",
   "execution_count": 52,
   "metadata": {},
   "outputs": [],
   "source": [
    "i, j = np.triu_indices(len(tag_tags), 1)\n",
    "dist_list = np.asanyarray([])\n",
    "new_df = pd.DataFrame(np.stack([tag_tags.index[i], tag_tags.index[j]]).T, columns=['tag1','tag2'])"
   ]
  },
  {
   "cell_type": "code",
   "execution_count": 70,
   "metadata": {},
   "outputs": [],
   "source": [
    "new_df['dist'] = new_df[:1000].apply(lambda x: get_dist(x.tag1,x.tag2), axis=1)"
   ]
  },
  {
   "cell_type": "code",
   "execution_count": 13,
   "metadata": {},
   "outputs": [
    {
     "data": {
      "text/html": [
       "<div>\n",
       "<style scoped>\n",
       "    .dataframe tbody tr th:only-of-type {\n",
       "        vertical-align: middle;\n",
       "    }\n",
       "\n",
       "    .dataframe tbody tr th {\n",
       "        vertical-align: top;\n",
       "    }\n",
       "\n",
       "    .dataframe thead th {\n",
       "        text-align: right;\n",
       "    }\n",
       "</style>\n",
       "<table border=\"1\" class=\"dataframe\">\n",
       "  <thead>\n",
       "    <tr style=\"text-align: right;\">\n",
       "      <th></th>\n",
       "      <th>tag</th>\n",
       "      <th>ques</th>\n",
       "    </tr>\n",
       "  </thead>\n",
       "  <tbody>\n",
       "    <tr>\n",
       "      <th>0</th>\n",
       "      <td>.a</td>\n",
       "      <td>[[c++, ubuntu, linux, .a]]</td>\n",
       "    </tr>\n",
       "    <tr>\n",
       "      <th>1</th>\n",
       "      <td>.app</td>\n",
       "      <td>[[dropbox, .app, api, download], [.app, osx, j...</td>\n",
       "    </tr>\n",
       "    <tr>\n",
       "      <th>2</th>\n",
       "      <td>.bash-profile</td>\n",
       "      <td>[[bash, .bash-profile], [maven, .bash-profile,...</td>\n",
       "    </tr>\n",
       "    <tr>\n",
       "      <th>3</th>\n",
       "      <td>.class-file</td>\n",
       "      <td>[[.class-file, jvm, bytecode, java-bytecode-as...</td>\n",
       "    </tr>\n",
       "    <tr>\n",
       "      <th>4</th>\n",
       "      <td>.doc</td>\n",
       "      <td>[[.doc, apache-poi, ms-word], [.doc, apache-po...</td>\n",
       "    </tr>\n",
       "  </tbody>\n",
       "</table>\n",
       "</div>"
      ],
      "text/plain": [
       "             tag                                               ques\n",
       "0             .a                         [[c++, ubuntu, linux, .a]]\n",
       "1           .app  [[dropbox, .app, api, download], [.app, osx, j...\n",
       "2  .bash-profile  [[bash, .bash-profile], [maven, .bash-profile,...\n",
       "3    .class-file  [[.class-file, jvm, bytecode, java-bytecode-as...\n",
       "4           .doc  [[.doc, apache-poi, ms-word], [.doc, apache-po..."
      ]
     },
     "execution_count": 13,
     "metadata": {},
     "output_type": "execute_result"
    }
   ],
   "source": [
    "# sort tags by their occurence\n",
    "new_df = pd.DataFrame({'tag':tag_tags.index,'ques':tag_tags.values})\n",
    "new_df.head()"
   ]
  },
  {
   "cell_type": "code",
   "execution_count": 14,
   "metadata": {},
   "outputs": [],
   "source": [
    "def sort_tags_by_cnt(x):\n",
    "    con_vec = np.concatenate(x.ques)\n",
    "    con_vec = con_vec[con_vec != x.tag]\n",
    "    con_vec = np.unique(con_vec, return_counts=True)\n",
    "    try:\n",
    "        x['tag1'] = con_vec[0][0]\n",
    "        # x['tag2'] = con_vec[0][1]\n",
    "        x['cnt1'] = con_vec[1][0]\n",
    "        # x['cnt2'] = con_vec[1][1]\n",
    "    except:\n",
    "        pass\n",
    "    return x"
   ]
  },
  {
   "cell_type": "code",
   "execution_count": 15,
   "metadata": {},
   "outputs": [],
   "source": [
    "new_df = new_df.apply(lambda x: sort_tags_by_cnt(x), axis=1)"
   ]
  },
  {
   "cell_type": "code",
   "execution_count": 16,
   "metadata": {},
   "outputs": [],
   "source": [
    "new_df.dropna(inplace=True)\n",
    "new_df.sort_values(['cnt1'], ascending=False,inplace=True)"
   ]
  },
  {
   "cell_type": "code",
   "execution_count": 17,
   "metadata": {},
   "outputs": [
    {
     "data": {
      "text/html": [
       "<div>\n",
       "<style scoped>\n",
       "    .dataframe tbody tr th:only-of-type {\n",
       "        vertical-align: middle;\n",
       "    }\n",
       "\n",
       "    .dataframe tbody tr th {\n",
       "        vertical-align: top;\n",
       "    }\n",
       "\n",
       "    .dataframe thead th {\n",
       "        text-align: right;\n",
       "    }\n",
       "</style>\n",
       "<table border=\"1\" class=\"dataframe\">\n",
       "  <thead>\n",
       "    <tr style=\"text-align: right;\">\n",
       "      <th></th>\n",
       "      <th>cnt1</th>\n",
       "      <th>ques</th>\n",
       "      <th>tag</th>\n",
       "      <th>tag1</th>\n",
       "    </tr>\n",
       "  </thead>\n",
       "  <tbody>\n",
       "    <tr>\n",
       "      <th>2161</th>\n",
       "      <td>551.0</td>\n",
       "      <td>[[c#, multithreading, synchronization, concurr...</td>\n",
       "      <td>c#</td>\n",
       "      <td>.net</td>\n",
       "    </tr>\n",
       "    <tr>\n",
       "      <th>154</th>\n",
       "      <td>156.0</td>\n",
       "      <td>[[achartengine, android, charts], [achartengin...</td>\n",
       "      <td>achartengine</td>\n",
       "      <td>android</td>\n",
       "    </tr>\n",
       "    <tr>\n",
       "      <th>803</th>\n",
       "      <td>151.0</td>\n",
       "      <td>[[android-volley, drupal-7, android, drupal], ...</td>\n",
       "      <td>android-volley</td>\n",
       "      <td>android</td>\n",
       "    </tr>\n",
       "    <tr>\n",
       "      <th>12024</th>\n",
       "      <td>144.0</td>\n",
       "      <td>[[ormlite, rest, robospice, android], [ormlite...</td>\n",
       "      <td>ormlite</td>\n",
       "      <td>android</td>\n",
       "    </tr>\n",
       "    <tr>\n",
       "      <th>681</th>\n",
       "      <td>135.0</td>\n",
       "      <td>[[android-mapview, overlay, android, itemizedo...</td>\n",
       "      <td>android-mapview</td>\n",
       "      <td>android</td>\n",
       "    </tr>\n",
       "  </tbody>\n",
       "</table>\n",
       "</div>"
      ],
      "text/plain": [
       "        cnt1                                               ques  \\\n",
       "2161   551.0  [[c#, multithreading, synchronization, concurr...   \n",
       "154    156.0  [[achartengine, android, charts], [achartengin...   \n",
       "803    151.0  [[android-volley, drupal-7, android, drupal], ...   \n",
       "12024  144.0  [[ormlite, rest, robospice, android], [ormlite...   \n",
       "681    135.0  [[android-mapview, overlay, android, itemizedo...   \n",
       "\n",
       "                   tag     tag1  \n",
       "2161                c#     .net  \n",
       "154       achartengine  android  \n",
       "803     android-volley  android  \n",
       "12024          ormlite  android  \n",
       "681    android-mapview  android  "
      ]
     },
     "execution_count": 17,
     "metadata": {},
     "output_type": "execute_result"
    }
   ],
   "source": [
    "new_df.head()"
   ]
  },
  {
   "cell_type": "code",
   "execution_count": 21,
   "metadata": {},
   "outputs": [],
   "source": [
    "new_df = new_df[:20]"
   ]
  },
  {
   "cell_type": "code",
   "execution_count": null,
   "metadata": {},
   "outputs": [],
   "source": [
    "# select all prev tag and tag1 for top distance calculation\n",
    "new_df['dist'] = new_df.apply(lambda x: get_dist(x.tag,x.tag1), axis=1)"
   ]
  },
  {
   "cell_type": "code",
   "execution_count": 31,
   "metadata": {},
   "outputs": [
    {
     "data": {
      "text/html": [
       "<div>\n",
       "<style scoped>\n",
       "    .dataframe tbody tr th:only-of-type {\n",
       "        vertical-align: middle;\n",
       "    }\n",
       "\n",
       "    .dataframe tbody tr th {\n",
       "        vertical-align: top;\n",
       "    }\n",
       "\n",
       "    .dataframe thead th {\n",
       "        text-align: right;\n",
       "    }\n",
       "</style>\n",
       "<table border=\"1\" class=\"dataframe\">\n",
       "  <thead>\n",
       "    <tr style=\"text-align: right;\">\n",
       "      <th></th>\n",
       "      <th>cnt1</th>\n",
       "      <th>tag</th>\n",
       "      <th>tag1</th>\n",
       "      <th>dist</th>\n",
       "    </tr>\n",
       "  </thead>\n",
       "  <tbody>\n",
       "    <tr>\n",
       "      <th>2161</th>\n",
       "      <td>551.0</td>\n",
       "      <td>c#</td>\n",
       "      <td>.net</td>\n",
       "      <td>0.230577</td>\n",
       "    </tr>\n",
       "    <tr>\n",
       "      <th>898</th>\n",
       "      <td>99.0</td>\n",
       "      <td>apache-camel</td>\n",
       "      <td>activemq</td>\n",
       "      <td>0.253327</td>\n",
       "    </tr>\n",
       "    <tr>\n",
       "      <th>18021</th>\n",
       "      <td>79.0</td>\n",
       "      <td>wcf</td>\n",
       "      <td>.net</td>\n",
       "      <td>0.261574</td>\n",
       "    </tr>\n",
       "    <tr>\n",
       "      <th>16772</th>\n",
       "      <td>99.0</td>\n",
       "      <td>time-complexity</td>\n",
       "      <td>algorithm</td>\n",
       "      <td>0.359599</td>\n",
       "    </tr>\n",
       "    <tr>\n",
       "      <th>2113</th>\n",
       "      <td>96.0</td>\n",
       "      <td>bundle</td>\n",
       "      <td>android</td>\n",
       "      <td>0.387185</td>\n",
       "    </tr>\n",
       "    <tr>\n",
       "      <th>12024</th>\n",
       "      <td>144.0</td>\n",
       "      <td>ormlite</td>\n",
       "      <td>android</td>\n",
       "      <td>0.387297</td>\n",
       "    </tr>\n",
       "    <tr>\n",
       "      <th>154</th>\n",
       "      <td>156.0</td>\n",
       "      <td>achartengine</td>\n",
       "      <td>android</td>\n",
       "      <td>0.387510</td>\n",
       "    </tr>\n",
       "    <tr>\n",
       "      <th>803</th>\n",
       "      <td>151.0</td>\n",
       "      <td>android-volley</td>\n",
       "      <td>android</td>\n",
       "      <td>0.387510</td>\n",
       "    </tr>\n",
       "    <tr>\n",
       "      <th>681</th>\n",
       "      <td>135.0</td>\n",
       "      <td>android-mapview</td>\n",
       "      <td>android</td>\n",
       "      <td>0.387633</td>\n",
       "    </tr>\n",
       "    <tr>\n",
       "      <th>15685</th>\n",
       "      <td>89.0</td>\n",
       "      <td>sqlite3</td>\n",
       "      <td>android</td>\n",
       "      <td>0.387713</td>\n",
       "    </tr>\n",
       "  </tbody>\n",
       "</table>\n",
       "</div>"
      ],
      "text/plain": [
       "        cnt1              tag       tag1      dist\n",
       "2161   551.0               c#       .net  0.230577\n",
       "898     99.0     apache-camel   activemq  0.253327\n",
       "18021   79.0              wcf       .net  0.261574\n",
       "16772   99.0  time-complexity  algorithm  0.359599\n",
       "2113    96.0           bundle    android  0.387185\n",
       "12024  144.0          ormlite    android  0.387297\n",
       "154    156.0     achartengine    android  0.387510\n",
       "803    151.0   android-volley    android  0.387510\n",
       "681    135.0  android-mapview    android  0.387633\n",
       "15685   89.0          sqlite3    android  0.387713"
      ]
     },
     "execution_count": 31,
     "metadata": {},
     "output_type": "execute_result"
    }
   ],
   "source": [
    "new_df.sort_values(['dist']).drop(columns=['ques']).head(10)"
   ]
  },
  {
   "cell_type": "code",
   "execution_count": null,
   "metadata": {},
   "outputs": [],
   "source": []
  }
 ],
 "metadata": {
  "interpreter": {
   "hash": "66c5ad3e4fe2006c058c4f7e9081f2a7de514f0ec125c3275fef48ae304ef2f7"
  },
  "kernelspec": {
   "display_name": "Python 3.8.3 64-bit",
   "language": "python",
   "name": "python3"
  },
  "language_info": {
   "codemirror_mode": {
    "name": "ipython",
    "version": 3
   },
   "file_extension": ".py",
   "mimetype": "text/x-python",
   "name": "python",
   "nbconvert_exporter": "python",
   "pygments_lexer": "ipython3",
   "version": "3.8.3"
  },
  "orig_nbformat": 4
 },
 "nbformat": 4,
 "nbformat_minor": 2
}
